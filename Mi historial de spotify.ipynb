{
 "cells": [
  {
   "cell_type": "markdown",
   "metadata": {},
   "source": [
    "# Mi año en Spotify"
   ]
  },
  {
   "cell_type": "markdown",
   "metadata": {},
   "source": [
    "Este notebook esta inspirado en el [blog de Nerudista en tacos de datos](https://tacosdedatos.com/dueno-de-mis-datos-spotify \"Dueño de mis datos\") y en el [blog de Antonio Feregrino tambien en tacos de datos](https://tacosdedatos.com/mas-data-viz-con-spotify-python) que nos propone poder visualizar nuestra actividad en Spotify como la de GitHub.\n",
    "\n",
    "La idea de replicarlo nacio de un reto que le hice a [Stanley Salvatierra](https://twitter.com/iamatachyon). Al final el gano, pues yo tengo la mala costumbre de dejar las cosas a media y no terminarlas hasta, pero espero emepzar a cambiar ese habito con este notebook."
   ]
  },
  {
   "cell_type": "markdown",
   "metadata": {},
   "source": [
    "### Exploracion de los datos\n",
    "Lo primero que haremos sera obtener los datos de Spotify, para ello es necesario ingresar a tu cuenta de Spotify y [solicitarlos](https://www.spotify.com/mx/account/privacy/) demora un poco pero no sera ams de 1 semana.\n",
    "\n",
    "Una vez que ya tienes tus datos en tu pequeño .zip debes buscar los archivos JSON **\"StreamingHistoryXX.json\"** que son los que contiene tu informacion de Stearming __¿Que locura no?__"
   ]
  },
  {
   "cell_type": "raw",
   "metadata": {},
   "source": [
    "  {\n",
    "    \"endTime\" : \"2019-03-06 01:12\",\n",
    "    \"artistName\" : \"Sebastian Yatra\",\n",
    "    \"trackName\" : \"Ya No Tiene Novio\",\n",
    "    \"msPlayed\" : 48320\n",
    "  },\n",
    "  {\n",
    "    \"endTime\" : \"2019-03-07 18:30\",\n",
    "    \"artistName\" : \"Sebastian Yatra\",\n",
    "    \"trackName\" : \"Ya No Tiene Novio\",\n",
    "    \"msPlayed\" : 1331\n",
    "  }"
   ]
  },
  {
   "cell_type": "markdown",
   "metadata": {},
   "source": [
    "Vamos a importar las herramientas que nos ayudaran en el preprocesamiento y visualizacion, pues el **JSON** sufrira algunos cambios."
   ]
  },
  {
   "cell_type": "code",
   "execution_count": 48,
   "metadata": {},
   "outputs": [],
   "source": [
    "from glob import glob\n",
    "import json\n",
    "import pandas as pd\n",
    "import calendar\n",
    "import numpy as np\n",
    "import matplotlib.pyplot as plt\n",
    "import seaborn as sns\n",
    "from datetime import timedelta"
   ]
  },
  {
   "cell_type": "markdown",
   "metadata": {},
   "source": [
    "Con esta funcion vamos a leer los datos del o de los **.json**"
   ]
  },
  {
   "cell_type": "code",
   "execution_count": 59,
   "metadata": {},
   "outputs": [],
   "source": [
    "def read_history():\n",
    "    history = []\n",
    "    for file in sorted(glob(\"StreamingHistory*.json\")):\n",
    "        with open(file, 'rb')as readable:\n",
    "            history.extend(json.load(readable,))\n",
    "    history = pd.DataFrame(history)\n",
    "    history[\"endTime\"] = pd.to_datetime(history[\"endTime\"])\n",
    "    return history"
   ]
  },
  {
   "cell_type": "markdown",
   "metadata": {},
   "source": [
    "Ejecutamos la funcion y visualizamos nuestros datos"
   ]
  },
  {
   "cell_type": "code",
   "execution_count": 60,
   "metadata": {},
   "outputs": [
    {
     "data": {
      "text/html": [
       "<div>\n",
       "<style scoped>\n",
       "    .dataframe tbody tr th:only-of-type {\n",
       "        vertical-align: middle;\n",
       "    }\n",
       "\n",
       "    .dataframe tbody tr th {\n",
       "        vertical-align: top;\n",
       "    }\n",
       "\n",
       "    .dataframe thead th {\n",
       "        text-align: right;\n",
       "    }\n",
       "</style>\n",
       "<table border=\"1\" class=\"dataframe\">\n",
       "  <thead>\n",
       "    <tr style=\"text-align: right;\">\n",
       "      <th></th>\n",
       "      <th>endTime</th>\n",
       "      <th>artistName</th>\n",
       "      <th>trackName</th>\n",
       "      <th>msPlayed</th>\n",
       "    </tr>\n",
       "  </thead>\n",
       "  <tbody>\n",
       "    <tr>\n",
       "      <th>0</th>\n",
       "      <td>2019-03-06 01:12:00</td>\n",
       "      <td>Sebastian Yatra</td>\n",
       "      <td>Ya No Tiene Novio</td>\n",
       "      <td>48320</td>\n",
       "    </tr>\n",
       "    <tr>\n",
       "      <th>1</th>\n",
       "      <td>2019-03-07 18:30:00</td>\n",
       "      <td>Sebastian Yatra</td>\n",
       "      <td>Ya No Tiene Novio</td>\n",
       "      <td>1331</td>\n",
       "    </tr>\n",
       "    <tr>\n",
       "      <th>2</th>\n",
       "      <td>2019-03-07 18:34:00</td>\n",
       "      <td>Leslie Odom Jr.</td>\n",
       "      <td>Alexander Hamilton</td>\n",
       "      <td>236737</td>\n",
       "    </tr>\n",
       "    <tr>\n",
       "      <th>3</th>\n",
       "      <td>2019-03-07 18:36:00</td>\n",
       "      <td>Lin-Manuel Miranda</td>\n",
       "      <td>Aaron Burr, Sir</td>\n",
       "      <td>156630</td>\n",
       "    </tr>\n",
       "    <tr>\n",
       "      <th>4</th>\n",
       "      <td>2019-03-07 18:42:00</td>\n",
       "      <td>Lin-Manuel Miranda</td>\n",
       "      <td>My Shot</td>\n",
       "      <td>333154</td>\n",
       "    </tr>\n",
       "  </tbody>\n",
       "</table>\n",
       "</div>"
      ],
      "text/plain": [
       "              endTime          artistName           trackName  msPlayed\n",
       "0 2019-03-06 01:12:00     Sebastian Yatra   Ya No Tiene Novio     48320\n",
       "1 2019-03-07 18:30:00     Sebastian Yatra   Ya No Tiene Novio      1331\n",
       "2 2019-03-07 18:34:00     Leslie Odom Jr.  Alexander Hamilton    236737\n",
       "3 2019-03-07 18:36:00  Lin-Manuel Miranda     Aaron Burr, Sir    156630\n",
       "4 2019-03-07 18:42:00  Lin-Manuel Miranda             My Shot    333154"
      ]
     },
     "execution_count": 60,
     "metadata": {},
     "output_type": "execute_result"
    }
   ],
   "source": [
    "streaming_history = read_history()\n",
    "streaming_history.head(5)"
   ]
  },
  {
   "cell_type": "markdown",
   "metadata": {},
   "source": [
    "Vamos a personalizar el DataFrame, pues solo necesitamos la fecha en la que escuchamos la cancion y realizar algunas transformaciones numericas de los dias y las semanas"
   ]
  },
  {
   "cell_type": "code",
   "execution_count": 30,
   "metadata": {},
   "outputs": [],
   "source": [
    "streaming_history[\"date\"] = streaming_history[\"endTime\"].dt.floor('d')"
   ]
  },
  {
   "cell_type": "code",
   "execution_count": 31,
   "metadata": {},
   "outputs": [],
   "source": [
    "by_date = streaming_history.groupby(\"date\")[[\"trackName\"]].count()\n",
    "by_date = by_date.sort_index()"
   ]
  },
  {
   "cell_type": "code",
   "execution_count": 61,
   "metadata": {},
   "outputs": [],
   "source": [
    "by_date[\"weekday\"] = by_date.index.weekday\n",
    "by_date[\"week\"] = by_date.index.week"
   ]
  },
  {
   "cell_type": "markdown",
   "metadata": {},
   "source": [
    "Y este seria el resultado final de nuestro DataFrame, depsues de agrupar por fecha las canciones que escuchamos"
   ]
  },
  {
   "cell_type": "code",
   "execution_count": 62,
   "metadata": {},
   "outputs": [
    {
     "data": {
      "text/html": [
       "<div>\n",
       "<style scoped>\n",
       "    .dataframe tbody tr th:only-of-type {\n",
       "        vertical-align: middle;\n",
       "    }\n",
       "\n",
       "    .dataframe tbody tr th {\n",
       "        vertical-align: top;\n",
       "    }\n",
       "\n",
       "    .dataframe thead th {\n",
       "        text-align: right;\n",
       "    }\n",
       "</style>\n",
       "<table border=\"1\" class=\"dataframe\">\n",
       "  <thead>\n",
       "    <tr style=\"text-align: right;\">\n",
       "      <th></th>\n",
       "      <th>trackName</th>\n",
       "      <th>weekday</th>\n",
       "      <th>week</th>\n",
       "      <th>continuous_week</th>\n",
       "    </tr>\n",
       "    <tr>\n",
       "      <th>date</th>\n",
       "      <th></th>\n",
       "      <th></th>\n",
       "      <th></th>\n",
       "      <th></th>\n",
       "    </tr>\n",
       "  </thead>\n",
       "  <tbody>\n",
       "    <tr>\n",
       "      <th>2019-03-06</th>\n",
       "      <td>1</td>\n",
       "      <td>2</td>\n",
       "      <td>10</td>\n",
       "      <td>0</td>\n",
       "    </tr>\n",
       "    <tr>\n",
       "      <th>2019-03-07</th>\n",
       "      <td>42</td>\n",
       "      <td>3</td>\n",
       "      <td>10</td>\n",
       "      <td>0</td>\n",
       "    </tr>\n",
       "    <tr>\n",
       "      <th>2019-03-11</th>\n",
       "      <td>3</td>\n",
       "      <td>0</td>\n",
       "      <td>11</td>\n",
       "      <td>1</td>\n",
       "    </tr>\n",
       "    <tr>\n",
       "      <th>2019-03-12</th>\n",
       "      <td>14</td>\n",
       "      <td>1</td>\n",
       "      <td>11</td>\n",
       "      <td>1</td>\n",
       "    </tr>\n",
       "    <tr>\n",
       "      <th>2019-03-13</th>\n",
       "      <td>103</td>\n",
       "      <td>2</td>\n",
       "      <td>11</td>\n",
       "      <td>1</td>\n",
       "    </tr>\n",
       "  </tbody>\n",
       "</table>\n",
       "</div>"
      ],
      "text/plain": [
       "            trackName  weekday  week  continuous_week\n",
       "date                                                 \n",
       "2019-03-06          1        2    10                0\n",
       "2019-03-07         42        3    10                0\n",
       "2019-03-11          3        0    11                1\n",
       "2019-03-12         14        1    11                1\n",
       "2019-03-13        103        2    11                1"
      ]
     },
     "execution_count": 62,
     "metadata": {},
     "output_type": "execute_result"
    }
   ],
   "source": [
    "by_date.head(5)"
   ]
  },
  {
   "cell_type": "markdown",
   "metadata": {},
   "source": [
    "Lo que nos falta es transformar las semanas para iniciar en 0 nuestro grafico"
   ]
  },
  {
   "cell_type": "code",
   "execution_count": 39,
   "metadata": {},
   "outputs": [
    {
     "data": {
      "text/html": [
       "<div>\n",
       "<style scoped>\n",
       "    .dataframe tbody tr th:only-of-type {\n",
       "        vertical-align: middle;\n",
       "    }\n",
       "\n",
       "    .dataframe tbody tr th {\n",
       "        vertical-align: top;\n",
       "    }\n",
       "\n",
       "    .dataframe thead th {\n",
       "        text-align: right;\n",
       "    }\n",
       "</style>\n",
       "<table border=\"1\" class=\"dataframe\">\n",
       "  <thead>\n",
       "    <tr style=\"text-align: right;\">\n",
       "      <th></th>\n",
       "      <th>trackName</th>\n",
       "      <th>weekday</th>\n",
       "      <th>week</th>\n",
       "      <th>continuous_week</th>\n",
       "    </tr>\n",
       "    <tr>\n",
       "      <th>date</th>\n",
       "      <th></th>\n",
       "      <th></th>\n",
       "      <th></th>\n",
       "      <th></th>\n",
       "    </tr>\n",
       "  </thead>\n",
       "  <tbody>\n",
       "    <tr>\n",
       "      <th>2019-03-06</th>\n",
       "      <td>1</td>\n",
       "      <td>2</td>\n",
       "      <td>10</td>\n",
       "      <td>0</td>\n",
       "    </tr>\n",
       "    <tr>\n",
       "      <th>2019-03-07</th>\n",
       "      <td>42</td>\n",
       "      <td>3</td>\n",
       "      <td>10</td>\n",
       "      <td>0</td>\n",
       "    </tr>\n",
       "    <tr>\n",
       "      <th>2019-03-11</th>\n",
       "      <td>3</td>\n",
       "      <td>0</td>\n",
       "      <td>11</td>\n",
       "      <td>1</td>\n",
       "    </tr>\n",
       "    <tr>\n",
       "      <th>2019-03-12</th>\n",
       "      <td>14</td>\n",
       "      <td>1</td>\n",
       "      <td>11</td>\n",
       "      <td>1</td>\n",
       "    </tr>\n",
       "    <tr>\n",
       "      <th>2019-03-13</th>\n",
       "      <td>103</td>\n",
       "      <td>2</td>\n",
       "      <td>11</td>\n",
       "      <td>1</td>\n",
       "    </tr>\n",
       "  </tbody>\n",
       "</table>\n",
       "</div>"
      ],
      "text/plain": [
       "            trackName  weekday  week  continuous_week\n",
       "date                                                 \n",
       "2019-03-06          1        2    10                0\n",
       "2019-03-07         42        3    10                0\n",
       "2019-03-11          3        0    11                1\n",
       "2019-03-12         14        1    11                1\n",
       "2019-03-13        103        2    11                1"
      ]
     },
     "execution_count": 39,
     "metadata": {},
     "output_type": "execute_result"
    }
   ],
   "source": [
    "week = 0\n",
    "prev_week = by_date.iloc[0][\"week\"]\n",
    "continuous_week = np.zeros(len(by_date)).astype(int)\n",
    "sunday_dates = []\n",
    "for i, (_, row) in enumerate(by_date.iterrows()):\n",
    "    if row[\"week\"] != prev_week:\n",
    "        week += 1\n",
    "        prev_week = row[\"week\"]\n",
    "    continuous_week[i] = week\n",
    "by_date[\"continuous_week\"] = continuous_week \n",
    "by_date.head()"
   ]
  },
  {
   "cell_type": "markdown",
   "metadata": {},
   "source": [
    "Y ahora preparamos la matriz de dias x canciones, donde cada dia de la semana tendremos el numero de canciones que hemos escuchado."
   ]
  },
  {
   "cell_type": "code",
   "execution_count": 41,
   "metadata": {},
   "outputs": [],
   "source": [
    "songs = np.full((7, continuous_week.max()+1), np.nan)\n",
    "\n",
    "for index, row in by_date.iterrows():\n",
    "    songs[row[\"weekday\"]][row[\"continuous_week\"]] = row[\"trackName\"]"
   ]
  },
  {
   "cell_type": "code",
   "execution_count": 64,
   "metadata": {},
   "outputs": [
    {
     "data": {
      "text/plain": [
       "<matplotlib.axes._subplots.AxesSubplot at 0x2dc1bf12048>"
      ]
     },
     "execution_count": 64,
     "metadata": {},
     "output_type": "execute_result"
    },
    {
     "data": {
      "image/png": "[encoded data removed]",
      "text/plain": [
       "<Figure size 1800x360 with 2 Axes>"
      ]
     },
     "metadata": {
      "needs_background": "light"
     },
     "output_type": "display_data"
    }
   ],
   "source": [
    "fig = plt.figure(figsize=(25,5))\n",
    "ax = plt.subplot()\n",
    "mask = np.isnan(songs)\n",
    "sns.heatmap(songs, ax = ax)"
   ]
  },
  {
   "cell_type": "markdown",
   "metadata": {},
   "source": [
    "El resultado del primer grafico no queda muy bonito, pero estamos muy cerca del objetivo, solo tenemos que hacer unos cuantos cambios. \n",
    "\n",
    "Vamos a modificar las etiquetas de los ejes, el eje X es calculado por la ifnromacion que tienemos. \n",
    "- Primero, obtenemos la fecha minima de lista de nuestras caciones, en mi caso _2019-03-06 01:12:00_\n",
    "- Segundo, vamos a calcular el primer lunes mas cercano a nuestra fecha minima, en mi caso _2019-03-04 01:12:00_\n",
    "- Tercero, calculamos un Array de todos los lunes hasta la ultima semana que tenemos en canciones.\n",
    "- Cuarto, obtenemos los meses y el numero de semanas por mes para las cabeceras donde la primera semana tendra el nombre del mes\n",
    "\n",
    "Para el eje Y la modificacion es mucho mas simple, solo se listan los dias"
   ]
  },
  {
   "cell_type": "code",
   "execution_count": 78,
   "metadata": {},
   "outputs": [
    {
     "name": "stdout",
     "output_type": "stream",
     "text": [
      "2019-03-06 01:12:00\n",
      "2019-03-04 01:12:00\n",
      "['Mar', '', '', '', 'Apr', '', '', '', '', 'May', '', '', '', 'Jun', '', '', '', 'Jul', '', '', '', '', 'Aug', '', '', '', 'Sep', '', '', '', '', 'Oct', '', '', '', 'Nov', '', '', '', 'Dec', '', '', '', '', 'Jan', '', '']\n"
     ]
    }
   ],
   "source": [
    "min_date = streaming_history[\"endTime\"].min()\n",
    "print(min_date)\n",
    "first_monday = min_date - timedelta(min_date.weekday())\n",
    "print(first_monday)\n",
    "mons = [first_monday + timedelta(weeks=wk) for wk in range(continuous_week.max())]\n",
    "x_labels = [calendar.month_abbr[mons[0].month]]\n",
    "x_labels.extend([\n",
    "    calendar.month_abbr[mons[i].month] if mons[i-1].month != mons[i].month else \"\" \n",
    "    for i in range(1, len(mons))])\n",
    "print(x_labels)\n",
    "y_labels = [\"Mon\", \"\", \"Wed\", \"\", \"Fri\", \"\", \"Sun\"]"
   ]
  },
  {
   "cell_type": "markdown",
   "metadata": {},
   "source": [
    "Finalmente vamos a modificar la cabecera, el color, el tamaño de la fuente, el tamaño del grafico. "
   ]
  },
  {
   "cell_type": "code",
   "execution_count": 58,
   "metadata": {},
   "outputs": [
    {
     "data": {
      "image/png": "[encoded data removed]",
      "text/plain": [
       "<Figure size 1440x360 with 1 Axes>"
      ]
     },
     "metadata": {},
     "output_type": "display_data"
    }
   ],
   "source": [
    "fig = plt.figure(figsize=(20,5))\n",
    "ax = plt.subplot()\n",
    "\n",
    "ax.set_title(\"Mi año en Spotify\", fontsize=20,pad=40)\n",
    "ax.xaxis.tick_top()\n",
    "ax.tick_params(axis='both', which='both',length=0)\n",
    "ax.set_facecolor(\"#ebedf0\") \n",
    "fig.patch.set_facecolor('white')\n",
    "sns.heatmap(songs, linewidths=2, linecolor='white', square=True,\n",
    "            mask=np.isnan(songs), cmap=\"Greens\",\n",
    "            vmin=0, vmax=100, cbar=False, ax=ax)\n",
    "\n",
    "ax.set_yticklabels(y_labels, rotation=0)\n",
    "ax.set_xticklabels(x_labels, ha=\"left\")\n",
    "pass"
   ]
  }
 ],
 "metadata": {
  "kernelspec": {
   "display_name": "Python 3",
   "language": "python",
   "name": "python3"
  },
  "language_info": {
   "codemirror_mode": {
    "name": "ipython",
    "version": 3
   },
   "file_extension": ".py",
   "mimetype": "text/x-python",
   "name": "python",
   "nbconvert_exporter": "python",
   "pygments_lexer": "ipython3",
   "version": "3.7.6"
  }
 },
 "nbformat": 4,
 "nbformat_minor": 4
}
